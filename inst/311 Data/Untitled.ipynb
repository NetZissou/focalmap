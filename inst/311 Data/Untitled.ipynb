{
 "cells": [
  {
   "cell_type": "code",
   "execution_count": 1,
   "id": "67796aed-5fa2-4ec5-ad0d-7510ffd0861b",
   "metadata": {},
   "outputs": [],
   "source": [
    "import requests\n",
    "import json\n",
    "import copy\n",
    "import pandas as pd\n",
    "import geopandas as gpd\n",
    "from datetime import date"
   ]
  },
  {
   "cell_type": "code",
   "execution_count": 2,
   "id": "06d1279f-7a3d-4068-800d-67b63499c4e7",
   "metadata": {},
   "outputs": [],
   "source": [
    "# ======================= #\n",
    "# ---- Last 24 Hours ---- \n",
    "# ======================= #\n",
    "\n",
    "url = \"https://maps2.columbus.gov/arcgis/rest/services/Applications/ServiceRequests/MapServer/0/query?where=REQUEST_MODIFIED+%3E+CURRENT_TIMESTAMP+-+1&outFields=*&f=geojson\"\n",
    "\n",
    "r = requests.get(url=url)\n",
    "data = r.json()\n",
    "\n",
    "file_dir = \"/fs/ess/PDE0001/focal_data_ingestion/other/311 Data/columbus/geojson/\"\n",
    "file_name = \"columbus311_new.geojson\"\n",
    "file = file_dir + file_name\n",
    "\n",
    "\n",
    "with open(file, \"w\") as f:\n",
    "    f.write(json.dumps(data, indent=4))\n",
    "    \n",
    "print(\"Data stored at: \" + file)"
   ]
  },
  {
   "cell_type": "code",
   "execution_count": 5,
   "id": "e531f2f6-41b5-4b32-b968-cbff34d18476",
   "metadata": {},
   "outputs": [],
   "source": [
    "params = {\n",
    "    \"where\": \"1=1\",      # Download all records.  Do not filter by attribute.\n",
    "    \"outFields\": \"*\",  # Retrieve a subset of the attributes\n",
    "    \"f\":\"geojson\"        # Download in GeoJSON format (other formats are probably not useful)\n",
    "}    \n",
    "\n",
    "baseUrl = \"http://maps2.columbus.gov/arcgis/rest/services/Applications/ServiceRequests/MapServer/0/query\"\n",
    "\n",
    "r = requests.get(url=baseUrl, params=params)\n",
    "data = r.json()"
   ]
  },
  {
   "cell_type": "code",
   "execution_count": 7,
   "id": "e4eaa98a-1934-4636-b89e-6c5f072584cb",
   "metadata": {},
   "outputs": [
    {
     "name": "stdout",
     "output_type": "stream",
     "text": [
      "Data stored at: /fs/ess/PDE0001/focal_data_ingestion/other/311 Data/columbus/geojson/columbus311_new.geojson\n"
     ]
    }
   ],
   "source": [
    "file_dir = \"/fs/ess/PDE0001/focal_data_ingestion/other/311 Data/columbus/geojson/\"\n",
    "file_name = \"columbus311_new.geojson\"\n",
    "file = file_dir + file_name\n",
    "\n",
    "\n",
    "with open(file, \"w\") as f:\n",
    "    f.write(json.dumps(data, indent=4))\n",
    "    \n",
    "print(\"Data stored at: \" + file)"
   ]
  }
 ],
 "metadata": {
  "kernelspec": {
   "display_name": "Python 3",
   "language": "python",
   "name": "python3"
  },
  "language_info": {
   "codemirror_mode": {
    "name": "ipython",
    "version": 3
   },
   "file_extension": ".py",
   "mimetype": "text/x-python",
   "name": "python",
   "nbconvert_exporter": "python",
   "pygments_lexer": "ipython3",
   "version": "3.6.8"
  }
 },
 "nbformat": 4,
 "nbformat_minor": 5
}
